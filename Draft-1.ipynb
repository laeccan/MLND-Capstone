{
 "cells": [
  {
   "cell_type": "markdown",
   "metadata": {},
   "source": [
    "# Draft 1 - Capstone\n",
    "\n",
    "## Stock Price Predictor\n",
    "\n",
    "### Inputs\n",
    "* stock symbol *TODO: NYSE or NASDAQ, which exchanges?*\n",
    "* daily trading data\n",
    "* past date range, at least 1 month ago, for training model\n",
    "\n",
    "#### Trading Data Features\n",
    "* Opening Price (Open)\n",
    "* Highest stock trading price (High)\n",
    "* Number of stock shares traded (Volume)\n",
    "* Closing price adjusted for splits and dividends (Adjusted Close)\n",
    "\n",
    "### Processing\n",
    "\n",
    "#### Parameters\n",
    "* test date range, after training date range\n",
    "* prediction date, after test date range\n",
    "\n",
    "#### Model\n",
    "* regression model\n",
    "\n",
    "*TODO: select a model or set of models*\n",
    "\n",
    "### Output\n",
    "Predicted Adjusted Close for a specific trading day, the prediction date\n",
    "\n",
    "### Metric for Evaluation\n",
    "Predicted stock price within -/+5% of actual Adjusted Close"
   ]
  },
  {
   "cell_type": "markdown",
   "metadata": {},
   "source": [
    "## Exploration\n",
    "\n",
    "### Inputs\n",
    "First, the stock symbol and date range are collected and minimally checked.\n",
    "\n",
    "The data range will identify the stock data to be used to train the model."
   ]
  },
  {
   "cell_type": "code",
   "execution_count": 16,
   "metadata": {
    "collapsed": false
   },
   "outputs": [
    {
     "name": "stdout",
     "output_type": "stream",
     "text": [
      "Let's predict AAPL stock price using the date range from 2012-12-31 to 2017-01-01.\n"
     ]
    }
   ],
   "source": [
    "from datetime import datetime\n",
    "\n",
    "# Stock Symbol - Apple Inc. (AAPL) NASDAQ\n",
    "stock_symbol = 'aapl'\n",
    "\n",
    "# Date range for training data; backwards so courtesy swap flagged\n",
    "start_date = datetime.strptime('2017-01-01', '%Y-%m-%d')\n",
    "end_date = datetime.strptime('2012-12-31', '%Y-%m-%d')\n",
    "\n",
    "# Validate date range; exchange values if invalid range\n",
    "if (start_date > end_date):\n",
    "    (start_date, end_date) = (end_date, start_date)\n",
    "\n",
    "# Ensure end date is past\n",
    "today = datetime.now()\n",
    "if (end_date > today):\n",
    "    print('{} is not after {}'.format(end_date.date(), today.date()))\n",
    "# print('Today is {}'.format(today.date()))\n",
    "\n",
    "print('Let\\'s predict {} stock price using the date range from {} to {}.'.format(stock_symbol.upper(), start_date.date(), end_date.date()))"
   ]
  },
  {
   "cell_type": "markdown",
   "metadata": {},
   "source": [
    "### Process\n",
    "\n",
    "*TODO: Will pandas or numpy or model help provide these values?*\n",
    "\n",
    "#### Dates\n",
    "* Test Start Date: 2017-02-14\n",
    "* Test End Date :2017-04-02\n",
    "* Prediction Date: 2017-05-17"
   ]
  },
  {
   "cell_type": "code",
   "execution_count": 19,
   "metadata": {
    "collapsed": false
   },
   "outputs": [],
   "source": [
    "# Test date range for model\n",
    "test_start_date = datetime.strptime('2017-02-14', '%Y-%m-%d')\n",
    "test_end_date = datetime.strptime('2017-04-02', '%Y-%m-%d')\n",
    "\n",
    "# Prediction date\n",
    "prediction_date = datetime.strptime('2017-05-17', '%Y-%m-%d')"
   ]
  },
  {
   "cell_type": "markdown",
   "metadata": {},
   "source": [
    "#### Stock Data\n",
    "Stock data will be downloaded from [Quandl](https:///www.quandl.com).\n",
    "\n",
    "> \"Quandl delivers market data from hundreds of sources via API or directly into Python, R, Excel and dozens of other tools.\" [Quandle](https://www.quandl.com)"
   ]
  },
  {
   "cell_type": "code",
   "execution_count": 33,
   "metadata": {
    "collapsed": false
   },
   "outputs": [],
   "source": [
    "import quandl\n",
    "\n",
    "#token = '' # TODO: remove from code before committing\n",
    "\n",
    "str_start_date = (start_date.date().strftime(\"%Y-%m-%d\"))\n",
    "str_end_date = (end_date.date().strftime(\"%Y-%m-%d\"))\n",
    "\n",
    "# time series call\n",
    "data = quandl.get(\"WIKI/\"+stock_symbol, start_date=str_start_date, end_date=str_end_date)\n",
    "\n",
    "# as numpy array\n",
    "# data = quandl.get(\"WIKI/AAPL\", returns=\"numpy\")"
   ]
  },
  {
   "cell_type": "code",
   "execution_count": 34,
   "metadata": {
    "collapsed": false
   },
   "outputs": [
    {
     "data": {
      "text/html": [
       "<div>\n",
       "<table border=\"1\" class=\"dataframe\">\n",
       "  <thead>\n",
       "    <tr style=\"text-align: right;\">\n",
       "      <th></th>\n",
       "      <th>Open</th>\n",
       "      <th>High</th>\n",
       "      <th>Low</th>\n",
       "      <th>Close</th>\n",
       "      <th>Volume</th>\n",
       "      <th>Ex-Dividend</th>\n",
       "      <th>Split Ratio</th>\n",
       "      <th>Adj. Open</th>\n",
       "      <th>Adj. High</th>\n",
       "      <th>Adj. Low</th>\n",
       "      <th>Adj. Close</th>\n",
       "      <th>Adj. Volume</th>\n",
       "    </tr>\n",
       "    <tr>\n",
       "      <th>Date</th>\n",
       "      <th></th>\n",
       "      <th></th>\n",
       "      <th></th>\n",
       "      <th></th>\n",
       "      <th></th>\n",
       "      <th></th>\n",
       "      <th></th>\n",
       "      <th></th>\n",
       "      <th></th>\n",
       "      <th></th>\n",
       "      <th></th>\n",
       "      <th></th>\n",
       "    </tr>\n",
       "  </thead>\n",
       "  <tbody>\n",
       "    <tr>\n",
       "      <th>2012-12-31</th>\n",
       "      <td>510.530</td>\n",
       "      <td>535.4000</td>\n",
       "      <td>509.0000</td>\n",
       "      <td>532.1729</td>\n",
       "      <td>23553300.0</td>\n",
       "      <td>0.0</td>\n",
       "      <td>1.0</td>\n",
       "      <td>66.471857</td>\n",
       "      <td>69.709972</td>\n",
       "      <td>66.272648</td>\n",
       "      <td>69.289798</td>\n",
       "      <td>164873100.0</td>\n",
       "    </tr>\n",
       "    <tr>\n",
       "      <th>2013-01-02</th>\n",
       "      <td>553.820</td>\n",
       "      <td>555.0000</td>\n",
       "      <td>541.6300</td>\n",
       "      <td>549.0300</td>\n",
       "      <td>20018500.0</td>\n",
       "      <td>0.0</td>\n",
       "      <td>1.0</td>\n",
       "      <td>72.108287</td>\n",
       "      <td>72.261925</td>\n",
       "      <td>70.521129</td>\n",
       "      <td>71.484621</td>\n",
       "      <td>140129500.0</td>\n",
       "    </tr>\n",
       "    <tr>\n",
       "      <th>2013-01-03</th>\n",
       "      <td>547.880</td>\n",
       "      <td>549.6700</td>\n",
       "      <td>541.0000</td>\n",
       "      <td>542.0959</td>\n",
       "      <td>12605900.0</td>\n",
       "      <td>0.0</td>\n",
       "      <td>1.0</td>\n",
       "      <td>71.334889</td>\n",
       "      <td>71.567950</td>\n",
       "      <td>70.439101</td>\n",
       "      <td>70.581790</td>\n",
       "      <td>88241300.0</td>\n",
       "    </tr>\n",
       "    <tr>\n",
       "      <th>2013-01-04</th>\n",
       "      <td>536.965</td>\n",
       "      <td>538.6299</td>\n",
       "      <td>525.8286</td>\n",
       "      <td>527.0000</td>\n",
       "      <td>21226200.0</td>\n",
       "      <td>0.0</td>\n",
       "      <td>1.0</td>\n",
       "      <td>69.913738</td>\n",
       "      <td>70.130511</td>\n",
       "      <td>68.463760</td>\n",
       "      <td>68.616278</td>\n",
       "      <td>148583400.0</td>\n",
       "    </tr>\n",
       "    <tr>\n",
       "      <th>2013-01-07</th>\n",
       "      <td>522.000</td>\n",
       "      <td>529.3000</td>\n",
       "      <td>515.2000</td>\n",
       "      <td>523.9000</td>\n",
       "      <td>17291300.0</td>\n",
       "      <td>0.0</td>\n",
       "      <td>1.0</td>\n",
       "      <td>67.965270</td>\n",
       "      <td>68.915742</td>\n",
       "      <td>67.079899</td>\n",
       "      <td>68.212653</td>\n",
       "      <td>121039100.0</td>\n",
       "    </tr>\n",
       "  </tbody>\n",
       "</table>\n",
       "</div>"
      ],
      "text/plain": [
       "               Open      High       Low     Close      Volume  Ex-Dividend  \\\n",
       "Date                                                                         \n",
       "2012-12-31  510.530  535.4000  509.0000  532.1729  23553300.0          0.0   \n",
       "2013-01-02  553.820  555.0000  541.6300  549.0300  20018500.0          0.0   \n",
       "2013-01-03  547.880  549.6700  541.0000  542.0959  12605900.0          0.0   \n",
       "2013-01-04  536.965  538.6299  525.8286  527.0000  21226200.0          0.0   \n",
       "2013-01-07  522.000  529.3000  515.2000  523.9000  17291300.0          0.0   \n",
       "\n",
       "            Split Ratio  Adj. Open  Adj. High   Adj. Low  Adj. Close  \\\n",
       "Date                                                                   \n",
       "2012-12-31          1.0  66.471857  69.709972  66.272648   69.289798   \n",
       "2013-01-02          1.0  72.108287  72.261925  70.521129   71.484621   \n",
       "2013-01-03          1.0  71.334889  71.567950  70.439101   70.581790   \n",
       "2013-01-04          1.0  69.913738  70.130511  68.463760   68.616278   \n",
       "2013-01-07          1.0  67.965270  68.915742  67.079899   68.212653   \n",
       "\n",
       "            Adj. Volume  \n",
       "Date                     \n",
       "2012-12-31  164873100.0  \n",
       "2013-01-02  140129500.0  \n",
       "2013-01-03   88241300.0  \n",
       "2013-01-04  148583400.0  \n",
       "2013-01-07  121039100.0  "
      ]
     },
     "execution_count": 34,
     "metadata": {},
     "output_type": "execute_result"
    }
   ],
   "source": [
    "data.head()"
   ]
  },
  {
   "cell_type": "markdown",
   "metadata": {},
   "source": [
    "[^1]: https://www.quandl.com"
   ]
  }
 ],
 "metadata": {
  "kernelspec": {
   "display_name": "Python [Root]",
   "language": "python",
   "name": "Python [Root]"
  },
  "language_info": {
   "codemirror_mode": {
    "name": "ipython",
    "version": 2
   },
   "file_extension": ".py",
   "mimetype": "text/x-python",
   "name": "python",
   "nbconvert_exporter": "python",
   "pygments_lexer": "ipython2",
   "version": "2.7.12"
  }
 },
 "nbformat": 4,
 "nbformat_minor": 0
}
