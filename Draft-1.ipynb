{
 "cells": [
  {
   "cell_type": "markdown",
   "metadata": {},
   "source": [
    "# Draft 1 - Capstone\n",
    "\n",
    "## Stock Price Predictor\n",
    "\n",
    "### Inputs\n",
    "* stock symbol of NYSE or NASDAQ stock exchange\n",
    "* daily trading data\n",
    "* past date range, at least 1 month ago, for training model\n",
    "\n",
    "#### Trading Data Features\n",
    "* Opening Price (Open)\n",
    "* Highest stock trading price (High)\n",
    "* Number of stock shares traded (Volume)\n",
    "* Closing price adjusted for splits and dividends (Adjusted Close)\n",
    "\n",
    "### Processing\n",
    "\n",
    "#### Parameters\n",
    "* test date range, after training date range\n",
    "* prediction date, after test date range\n",
    "\n",
    "#### Model\n",
    "* regression model\n",
    "\n",
    "*TODO: select a model or set of models*\n",
    "\n",
    "### Output\n",
    "Predicted Adjusted Close for a specific trading day, the prediction date\n",
    "\n",
    "### Metric for Evaluation\n",
    "Predicted stock price within -/+5% of actual Adjusted Close"
   ]
  },
  {
   "cell_type": "markdown",
   "metadata": {},
   "source": [
    "## Exploration\n",
    "\n",
    "### Inputs\n",
    "First, the stock symbol and date range are collected and minimally checked.\n",
    "\n",
    "The data range will identify the stock data to be used to train the model."
   ]
  },
  {
   "cell_type": "code",
   "execution_count": 9,
   "metadata": {
    "collapsed": false
   },
   "outputs": [
    {
     "name": "stdout",
     "output_type": "stream",
     "text": [
      "Let's predict AAPL stock price using the date range from 2012-12-31 to 2017-01-01.\n"
     ]
    }
   ],
   "source": [
    "from datetime import datetime\n",
    "\n",
    "# Stock Symbol - Apple Inc. (AAPL) NASDAQ\n",
    "stock_symbol = 'aapl'\n",
    "\n",
    "# Date range for training data; backwards so courtesy swap flagged\n",
    "start_date = datetime.strptime('2017-01-01', '%Y-%m-%d')\n",
    "end_date = datetime.strptime('2012-12-31', '%Y-%m-%d')\n",
    "\n",
    "# Validate date range; exchange values if invalid range\n",
    "if (start_date > end_date):\n",
    "    (start_date, end_date) = (end_date, start_date)\n",
    "\n",
    "# TODO: validate end date one month ago\n",
    "\n",
    "# Ensure end date is past\n",
    "today = datetime.now()\n",
    "if (end_date > today):\n",
    "    print('{} is not after {}'.format(end_date.date(), today.date()))\n",
    "\n",
    "print('Let\\'s predict {} stock price using the date range from {} to {}.'.format(stock_symbol.upper(),\n",
    "                                                                                 start_date.date(), end_date.date()))"
   ]
  },
  {
   "cell_type": "markdown",
   "metadata": {},
   "source": [
    "### Process\n",
    "Select prediction date between today's date and test end date.\n",
    "\n",
    "\n",
    "#### Dates\n",
    "* Test Start Date: 2017-02-14\n",
    "* Test End Date: 2017-04-02\n"
   ]
  },
  {
   "cell_type": "code",
   "execution_count": 28,
   "metadata": {
    "collapsed": false
   },
   "outputs": [
    {
     "name": "stdout",
     "output_type": "stream",
     "text": [
      "Prediction is 2017-05-05\n"
     ]
    }
   ],
   "source": [
    "# Test date range for model\n",
    "test_start_date = datetime.strptime('2017-02-14', '%Y-%m-%d')\n",
    "test_end_date = datetime.strptime('2017-04-02', '%Y-%m-%d')\n",
    "\n",
    "# Prediction date\n",
    "prediction_date = datetime.fromordinal(test_end_date.toordinal() + ((today.toordinal() - test_end_date.toordinal()) / 2))\n",
    "\n",
    "# adjust if non-weekday (ordinals 0-4 are M-F): Saturday back one day, Sunday forward one day\n",
    "if (prediction_date.weekday() == 5):\n",
    "    prediction_date = datetime.fromordinal(prediction_date.toordinal() - 1)\n",
    "elif (prediction_date.weekday() == 6):\n",
    "    prediction_date = datetime.fromordinal(prediction_date.toordinal() + 1)\n",
    "\n",
    "print('Prediction is {}'.format(prediction_date.date()))"
   ]
  },
  {
   "cell_type": "markdown",
   "metadata": {},
   "source": [
    "#### Stock Data\n",
    "Stock data will be downloaded from [Quandl](https:///www.quandl.com).\n",
    "\n",
    "> \"Quandl (/ˈkwɑːndəl/) is a platform for financial, economic, and alternative data that serves investment professionals. Quandl sources data from over 500 publishers. All Quandl's data are accessible via an API. API access is possible through packages for multiple programming languages including R, Python, Matlab, Maple (software) and Stata.\" [Wikipedia](https://en.wikipedia.org/wiki/Quandl)"
   ]
  },
  {
   "cell_type": "code",
   "execution_count": 33,
   "metadata": {
    "collapsed": false
   },
   "outputs": [],
   "source": [
    "import quandl\n",
    "\n",
    "#token = '' # TODO: omit from committed code\n",
    "\n",
    "# time series call for pd.DataFrame object\n",
    "data = quandl.get(\"WIKI/\"+stock_symbol, start_date=start_date, end_date=end_date)\n",
    "\n",
    "# as numpy array; TODO: use case\n",
    "# data = quandl.get(\"WIKI/AAPL\", returns=\"numpy\")"
   ]
  },
  {
   "cell_type": "code",
   "execution_count": 34,
   "metadata": {
    "collapsed": false
   },
   "outputs": [
    {
     "data": {
      "text/html": [
       "<div>\n",
       "<table border=\"1\" class=\"dataframe\">\n",
       "  <thead>\n",
       "    <tr style=\"text-align: right;\">\n",
       "      <th></th>\n",
       "      <th>Open</th>\n",
       "      <th>High</th>\n",
       "      <th>Low</th>\n",
       "      <th>Close</th>\n",
       "      <th>Volume</th>\n",
       "      <th>Ex-Dividend</th>\n",
       "      <th>Split Ratio</th>\n",
       "      <th>Adj. Open</th>\n",
       "      <th>Adj. High</th>\n",
       "      <th>Adj. Low</th>\n",
       "      <th>Adj. Close</th>\n",
       "      <th>Adj. Volume</th>\n",
       "    </tr>\n",
       "    <tr>\n",
       "      <th>Date</th>\n",
       "      <th></th>\n",
       "      <th></th>\n",
       "      <th></th>\n",
       "      <th></th>\n",
       "      <th></th>\n",
       "      <th></th>\n",
       "      <th></th>\n",
       "      <th></th>\n",
       "      <th></th>\n",
       "      <th></th>\n",
       "      <th></th>\n",
       "      <th></th>\n",
       "    </tr>\n",
       "  </thead>\n",
       "  <tbody>\n",
       "    <tr>\n",
       "      <th>2012-12-31</th>\n",
       "      <td>41.05</td>\n",
       "      <td>42.105</td>\n",
       "      <td>40.930</td>\n",
       "      <td>42.01</td>\n",
       "      <td>149400.0</td>\n",
       "      <td>0.0</td>\n",
       "      <td>1.0</td>\n",
       "      <td>37.131298</td>\n",
       "      <td>38.085586</td>\n",
       "      <td>37.022754</td>\n",
       "      <td>37.999655</td>\n",
       "      <td>149400.0</td>\n",
       "    </tr>\n",
       "    <tr>\n",
       "      <th>2013-01-02</th>\n",
       "      <td>42.88</td>\n",
       "      <td>44.040</td>\n",
       "      <td>42.620</td>\n",
       "      <td>43.55</td>\n",
       "      <td>367300.0</td>\n",
       "      <td>0.0</td>\n",
       "      <td>1.0</td>\n",
       "      <td>38.786604</td>\n",
       "      <td>39.835868</td>\n",
       "      <td>38.551424</td>\n",
       "      <td>39.392644</td>\n",
       "      <td>367300.0</td>\n",
       "    </tr>\n",
       "    <tr>\n",
       "      <th>2013-01-03</th>\n",
       "      <td>43.62</td>\n",
       "      <td>43.920</td>\n",
       "      <td>43.374</td>\n",
       "      <td>43.76</td>\n",
       "      <td>233200.0</td>\n",
       "      <td>0.0</td>\n",
       "      <td>1.0</td>\n",
       "      <td>39.455962</td>\n",
       "      <td>39.727323</td>\n",
       "      <td>39.233446</td>\n",
       "      <td>39.582597</td>\n",
       "      <td>233200.0</td>\n",
       "    </tr>\n",
       "    <tr>\n",
       "      <th>2013-01-04</th>\n",
       "      <td>44.05</td>\n",
       "      <td>44.070</td>\n",
       "      <td>43.749</td>\n",
       "      <td>43.90</td>\n",
       "      <td>104400.0</td>\n",
       "      <td>0.0</td>\n",
       "      <td>1.0</td>\n",
       "      <td>39.844913</td>\n",
       "      <td>39.863004</td>\n",
       "      <td>39.572647</td>\n",
       "      <td>39.709233</td>\n",
       "      <td>104400.0</td>\n",
       "    </tr>\n",
       "    <tr>\n",
       "      <th>2013-01-07</th>\n",
       "      <td>43.54</td>\n",
       "      <td>43.880</td>\n",
       "      <td>43.340</td>\n",
       "      <td>43.50</td>\n",
       "      <td>113800.0</td>\n",
       "      <td>0.0</td>\n",
       "      <td>1.0</td>\n",
       "      <td>39.383599</td>\n",
       "      <td>39.691142</td>\n",
       "      <td>39.202691</td>\n",
       "      <td>39.347417</td>\n",
       "      <td>113800.0</td>\n",
       "    </tr>\n",
       "  </tbody>\n",
       "</table>\n",
       "</div>"
      ],
      "text/plain": [
       "             Open    High     Low  Close    Volume  Ex-Dividend  Split Ratio  \\\n",
       "Date                                                                           \n",
       "2012-12-31  41.05  42.105  40.930  42.01  149400.0          0.0          1.0   \n",
       "2013-01-02  42.88  44.040  42.620  43.55  367300.0          0.0          1.0   \n",
       "2013-01-03  43.62  43.920  43.374  43.76  233200.0          0.0          1.0   \n",
       "2013-01-04  44.05  44.070  43.749  43.90  104400.0          0.0          1.0   \n",
       "2013-01-07  43.54  43.880  43.340  43.50  113800.0          0.0          1.0   \n",
       "\n",
       "            Adj. Open  Adj. High   Adj. Low  Adj. Close  Adj. Volume  \n",
       "Date                                                                  \n",
       "2012-12-31  37.131298  38.085586  37.022754   37.999655     149400.0  \n",
       "2013-01-02  38.786604  39.835868  38.551424   39.392644     367300.0  \n",
       "2013-01-03  39.455962  39.727323  39.233446   39.582597     233200.0  \n",
       "2013-01-04  39.844913  39.863004  39.572647   39.709233     104400.0  \n",
       "2013-01-07  39.383599  39.691142  39.202691   39.347417     113800.0  "
      ]
     },
     "execution_count": 34,
     "metadata": {},
     "output_type": "execute_result"
    }
   ],
   "source": [
    "data.head()"
   ]
  },
  {
   "cell_type": "code",
   "execution_count": 37,
   "metadata": {
    "collapsed": false
   },
   "outputs": [],
   "source": [
    "# Explore if both NASDAQ and NYSE stock symbol data are available (Quandl), via 'Applied Industrial Technologies' check\n",
    "stock_symbol = 'AIT'\n",
    "test_data = quandl.get(\"WIKI/\"+stock_symbol, start_date=start_date, end_date=end_date)"
   ]
  },
  {
   "cell_type": "code",
   "execution_count": 41,
   "metadata": {
    "collapsed": false
   },
   "outputs": [
    {
     "data": {
      "text/html": [
       "<div>\n",
       "<table border=\"1\" class=\"dataframe\">\n",
       "  <thead>\n",
       "    <tr style=\"text-align: right;\">\n",
       "      <th></th>\n",
       "      <th>Open</th>\n",
       "      <th>High</th>\n",
       "      <th>Low</th>\n",
       "      <th>Close</th>\n",
       "      <th>Volume</th>\n",
       "      <th>Ex-Dividend</th>\n",
       "      <th>Split Ratio</th>\n",
       "      <th>Adj. Open</th>\n",
       "      <th>Adj. High</th>\n",
       "      <th>Adj. Low</th>\n",
       "      <th>Adj. Close</th>\n",
       "      <th>Adj. Volume</th>\n",
       "    </tr>\n",
       "    <tr>\n",
       "      <th>Date</th>\n",
       "      <th></th>\n",
       "      <th></th>\n",
       "      <th></th>\n",
       "      <th></th>\n",
       "      <th></th>\n",
       "      <th></th>\n",
       "      <th></th>\n",
       "      <th></th>\n",
       "      <th></th>\n",
       "      <th></th>\n",
       "      <th></th>\n",
       "      <th></th>\n",
       "    </tr>\n",
       "  </thead>\n",
       "  <tbody>\n",
       "    <tr>\n",
       "      <th>2016-12-23</th>\n",
       "      <td>60.45</td>\n",
       "      <td>61.350</td>\n",
       "      <td>60.2</td>\n",
       "      <td>61.20</td>\n",
       "      <td>150911.0</td>\n",
       "      <td>0.0</td>\n",
       "      <td>1.0</td>\n",
       "      <td>59.890459</td>\n",
       "      <td>60.782128</td>\n",
       "      <td>59.642773</td>\n",
       "      <td>60.633516</td>\n",
       "      <td>150911.0</td>\n",
       "    </tr>\n",
       "    <tr>\n",
       "      <th>2016-12-27</th>\n",
       "      <td>61.40</td>\n",
       "      <td>61.650</td>\n",
       "      <td>60.8</td>\n",
       "      <td>60.85</td>\n",
       "      <td>168563.0</td>\n",
       "      <td>0.0</td>\n",
       "      <td>1.0</td>\n",
       "      <td>60.831665</td>\n",
       "      <td>61.079351</td>\n",
       "      <td>60.237219</td>\n",
       "      <td>60.286756</td>\n",
       "      <td>168563.0</td>\n",
       "    </tr>\n",
       "    <tr>\n",
       "      <th>2016-12-28</th>\n",
       "      <td>61.05</td>\n",
       "      <td>61.300</td>\n",
       "      <td>59.6</td>\n",
       "      <td>60.05</td>\n",
       "      <td>181645.0</td>\n",
       "      <td>0.0</td>\n",
       "      <td>1.0</td>\n",
       "      <td>60.484905</td>\n",
       "      <td>60.732591</td>\n",
       "      <td>59.048326</td>\n",
       "      <td>59.494161</td>\n",
       "      <td>181645.0</td>\n",
       "    </tr>\n",
       "    <tr>\n",
       "      <th>2016-12-29</th>\n",
       "      <td>60.20</td>\n",
       "      <td>60.525</td>\n",
       "      <td>59.6</td>\n",
       "      <td>60.00</td>\n",
       "      <td>116698.0</td>\n",
       "      <td>0.0</td>\n",
       "      <td>1.0</td>\n",
       "      <td>59.642773</td>\n",
       "      <td>59.964764</td>\n",
       "      <td>59.048326</td>\n",
       "      <td>59.444624</td>\n",
       "      <td>116698.0</td>\n",
       "    </tr>\n",
       "    <tr>\n",
       "      <th>2016-12-30</th>\n",
       "      <td>59.95</td>\n",
       "      <td>59.950</td>\n",
       "      <td>59.1</td>\n",
       "      <td>59.40</td>\n",
       "      <td>154468.0</td>\n",
       "      <td>0.0</td>\n",
       "      <td>1.0</td>\n",
       "      <td>59.395087</td>\n",
       "      <td>59.395087</td>\n",
       "      <td>58.552955</td>\n",
       "      <td>58.850178</td>\n",
       "      <td>154468.0</td>\n",
       "    </tr>\n",
       "  </tbody>\n",
       "</table>\n",
       "</div>"
      ],
      "text/plain": [
       "             Open    High   Low  Close    Volume  Ex-Dividend  Split Ratio  \\\n",
       "Date                                                                         \n",
       "2016-12-23  60.45  61.350  60.2  61.20  150911.0          0.0          1.0   \n",
       "2016-12-27  61.40  61.650  60.8  60.85  168563.0          0.0          1.0   \n",
       "2016-12-28  61.05  61.300  59.6  60.05  181645.0          0.0          1.0   \n",
       "2016-12-29  60.20  60.525  59.6  60.00  116698.0          0.0          1.0   \n",
       "2016-12-30  59.95  59.950  59.1  59.40  154468.0          0.0          1.0   \n",
       "\n",
       "            Adj. Open  Adj. High   Adj. Low  Adj. Close  Adj. Volume  \n",
       "Date                                                                  \n",
       "2016-12-23  59.890459  60.782128  59.642773   60.633516     150911.0  \n",
       "2016-12-27  60.831665  61.079351  60.237219   60.286756     168563.0  \n",
       "2016-12-28  60.484905  60.732591  59.048326   59.494161     181645.0  \n",
       "2016-12-29  59.642773  59.964764  59.048326   59.444624     116698.0  \n",
       "2016-12-30  59.395087  59.395087  58.552955   58.850178     154468.0  "
      ]
     },
     "execution_count": 41,
     "metadata": {},
     "output_type": "execute_result"
    }
   ],
   "source": [
    "test_data.tail()"
   ]
  },
  {
   "cell_type": "code",
   "execution_count": 43,
   "metadata": {
    "collapsed": false
   },
   "outputs": [
    {
     "data": {
      "text/plain": [
       "pandas.core.frame.DataFrame"
      ]
     },
     "execution_count": 43,
     "metadata": {},
     "output_type": "execute_result"
    }
   ],
   "source": [
    "# Actual stock data for prediction date\n",
    "actual_data = quandl.get(\"WIKI/\"+stock_symbol, start_date=prediction_date, end_date=prediction_date)\n",
    "actual_data"
   ]
  },
  {
   "cell_type": "code",
   "execution_count": 65,
   "metadata": {
    "collapsed": false
   },
   "outputs": [
    {
     "data": {
      "text/html": [
       "<div>\n",
       "<table border=\"1\" class=\"dataframe\">\n",
       "  <thead>\n",
       "    <tr style=\"text-align: right;\">\n",
       "      <th></th>\n",
       "      <th>Open</th>\n",
       "      <th>High</th>\n",
       "      <th>Volume</th>\n",
       "      <th>Adj. Close</th>\n",
       "    </tr>\n",
       "  </thead>\n",
       "  <tbody>\n",
       "    <tr>\n",
       "      <th>count</th>\n",
       "      <td>1009.000000</td>\n",
       "      <td>1009.000000</td>\n",
       "      <td>1.009000e+03</td>\n",
       "      <td>1009.000000</td>\n",
       "    </tr>\n",
       "    <tr>\n",
       "      <th>mean</th>\n",
       "      <td>45.779891</td>\n",
       "      <td>46.203784</td>\n",
       "      <td>2.030417e+05</td>\n",
       "      <td>43.273835</td>\n",
       "    </tr>\n",
       "    <tr>\n",
       "      <th>std</th>\n",
       "      <td>4.572637</td>\n",
       "      <td>4.569646</td>\n",
       "      <td>1.090694e+05</td>\n",
       "      <td>4.419924</td>\n",
       "    </tr>\n",
       "    <tr>\n",
       "      <th>min</th>\n",
       "      <td>36.210000</td>\n",
       "      <td>37.350000</td>\n",
       "      <td>3.540000e+04</td>\n",
       "      <td>35.453095</td>\n",
       "    </tr>\n",
       "    <tr>\n",
       "      <th>25%</th>\n",
       "      <td>42.580000</td>\n",
       "      <td>42.940000</td>\n",
       "      <td>1.346000e+05</td>\n",
       "      <td>39.998685</td>\n",
       "    </tr>\n",
       "    <tr>\n",
       "      <th>50%</th>\n",
       "      <td>45.900000</td>\n",
       "      <td>46.280000</td>\n",
       "      <td>1.785420e+05</td>\n",
       "      <td>43.504970</td>\n",
       "    </tr>\n",
       "    <tr>\n",
       "      <th>75%</th>\n",
       "      <td>48.530000</td>\n",
       "      <td>48.930000</td>\n",
       "      <td>2.405020e+05</td>\n",
       "      <td>45.577037</td>\n",
       "    </tr>\n",
       "    <tr>\n",
       "      <th>max</th>\n",
       "      <td>62.600000</td>\n",
       "      <td>62.650000</td>\n",
       "      <td>1.155300e+06</td>\n",
       "      <td>61.723335</td>\n",
       "    </tr>\n",
       "  </tbody>\n",
       "</table>\n",
       "</div>"
      ],
      "text/plain": [
       "              Open         High        Volume   Adj. Close\n",
       "count  1009.000000  1009.000000  1.009000e+03  1009.000000\n",
       "mean     45.779891    46.203784  2.030417e+05    43.273835\n",
       "std       4.572637     4.569646  1.090694e+05     4.419924\n",
       "min      36.210000    37.350000  3.540000e+04    35.453095\n",
       "25%      42.580000    42.940000  1.346000e+05    39.998685\n",
       "50%      45.900000    46.280000  1.785420e+05    43.504970\n",
       "75%      48.530000    48.930000  2.405020e+05    45.577037\n",
       "max      62.600000    62.650000  1.155300e+06    61.723335"
      ]
     },
     "execution_count": 65,
     "metadata": {},
     "output_type": "execute_result"
    }
   ],
   "source": [
    "# Input features dataframe\n",
    "# test_data[['Open','High', 'Volume','Adj. Close']]\n",
    "\n",
    "# Review of P4F ch 6 items\n",
    "# test_data.index\n",
    "# test_data.columns\n",
    "# test_data.ix[['2016-12-23']] -- why NaNs\n",
    "# test_data.ix[test_data.index[1:3]] -- works ['2013-01-02','2013-01-03']\n",
    "# test_data[['Open','High', 'Volume','Adj. Close']].std()\n",
    "# test_data[['Open','High', 'Volume','Adj. Close']].mean()\n",
    "test_data[['Open','High', 'Volume','Adj. Close']].describe()"
   ]
  },
  {
   "cell_type": "code",
   "execution_count": 67,
   "metadata": {
    "collapsed": false
   },
   "outputs": [
    {
     "data": {
      "text/plain": [
       "<matplotlib.axes._subplots.AxesSubplot at 0x7faa25857bd0>"
      ]
     },
     "execution_count": 67,
     "metadata": {},
     "output_type": "execute_result"
    },
    {
     "data": {
      "image/png": "[encoded data removed]",
      "text/plain": [
       "<matplotlib.figure.Figure at 0x7faa25783450>"
      ]
     },
     "metadata": {},
     "output_type": "display_data"
    }
   ],
   "source": [
    "%matplotlib inline\n",
    "test_data[['Open','High', 'Adj. Close']].cumsum().plot(lw=2.0)"
   ]
  },
  {
   "cell_type": "markdown",
   "metadata": {},
   "source": [
    "[^1]: https://www.quandl.com"
   ]
  }
 ],
 "metadata": {
  "kernelspec": {
   "display_name": "Python [Root]",
   "language": "python",
   "name": "Python [Root]"
  },
  "language_info": {
   "codemirror_mode": {
    "name": "ipython",
    "version": 2
   },
   "file_extension": ".py",
   "mimetype": "text/x-python",
   "name": "python",
   "nbconvert_exporter": "python",
   "pygments_lexer": "ipython2",
   "version": "2.7.12"
  }
 },
 "nbformat": 4,
 "nbformat_minor": 0
}
